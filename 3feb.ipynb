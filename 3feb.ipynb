{
 "cells": [
  {
   "cell_type": "markdown",
   "id": "7320fe85-9742-4bc6-87e8-fbe8c412de2d",
   "metadata": {},
   "source": [
    "Q1. Which keyword is used to create a function? Create a function to return a list of odd numbers in the\n",
    "range of 1 to 25."
   ]
  },
  {
   "cell_type": "markdown",
   "id": "ebbf492e-8fee-4e2f-a373-d8f04d778008",
   "metadata": {},
   "source": [
    "def keyword is used for create a function "
   ]
  },
  {
   "cell_type": "code",
   "execution_count": 1,
   "id": "70df6dc1-06eb-48ce-8625-ea3c27b5e6ab",
   "metadata": {},
   "outputs": [],
   "source": [
    "def odd_no(l):\n",
    "    l1=[]\n",
    "    for i in l:\n",
    "        if i%2 !=0:\n",
    "            l1.append(i)\n",
    "    return l1"
   ]
  },
  {
   "cell_type": "code",
   "execution_count": 2,
   "id": "b106de5a-d4be-4054-8048-0ea248f6e1cd",
   "metadata": {},
   "outputs": [
    {
     "data": {
      "text/plain": [
       "[1, 3, 5, 7, 9, 11, 13, 15, 17, 19, 21, 23, 25]"
      ]
     },
     "execution_count": 2,
     "metadata": {},
     "output_type": "execute_result"
    }
   ],
   "source": [
    "odd_no(list(range(1,26)))"
   ]
  },
  {
   "cell_type": "markdown",
   "id": "57e83f83-4b07-4613-95a4-7657234ad61c",
   "metadata": {},
   "source": [
    "Q6. Write a python program to print the first 10 Fibonacci numbers using a while loop."
   ]
  },
  {
   "cell_type": "code",
   "execution_count": 3,
   "id": "fd90fcef-4c20-45ac-b4f3-b89d2ab79b3f",
   "metadata": {},
   "outputs": [
    {
     "name": "stdout",
     "output_type": "stream",
     "text": [
      "0\n",
      "1\n",
      "1\n",
      "2\n",
      "3\n",
      "5\n",
      "8\n",
      "13\n",
      "21\n",
      "34\n"
     ]
    }
   ],
   "source": [
    "n=1\n",
    "a=0\n",
    "b=1\n",
    "count=1\n",
    "while n<=10:\n",
    "    print(a)\n",
    "    c=a+b\n",
    "    a=b\n",
    "    b=c\n",
    "    n=n+1"
   ]
  },
  {
   "cell_type": "markdown",
   "id": "0b70b65e-078a-4484-be9f-a7564de50572",
   "metadata": {},
   "source": [
    "Q7. Write a List Comprehension to iterate through the given string: ‘pwskills’.\n",
    "Expected output: ['p', 'w', 's', 'k', 'i', 'l', 'l', 's']"
   ]
  },
  {
   "cell_type": "code",
   "execution_count": 4,
   "id": "d83080b6-a670-4b35-af92-584668c5b8fc",
   "metadata": {},
   "outputs": [],
   "source": [
    "s=\"pwskills\""
   ]
  },
  {
   "cell_type": "code",
   "execution_count": 5,
   "id": "b51a8fc9-4054-4a29-870e-f4f3aa78ff22",
   "metadata": {},
   "outputs": [
    {
     "data": {
      "text/plain": [
       "['p', 'w', 's', 'k', 'i', 'l', 'l', 's']"
      ]
     },
     "execution_count": 5,
     "metadata": {},
     "output_type": "execute_result"
    }
   ],
   "source": [
    "[i for i in s]"
   ]
  },
  {
   "cell_type": "markdown",
   "id": "c00683ff-69d8-4a5d-9041-1e73c1b106aa",
   "metadata": {},
   "source": [
    "Q8. Write a python program to check whether a given number is Palindrome or not using a while loop."
   ]
  },
  {
   "cell_type": "code",
   "execution_count": 6,
   "id": "c887f335-b413-473b-924f-8c06eeb59fcf",
   "metadata": {},
   "outputs": [],
   "source": [
    "def check_palindrome(n):\n",
    "    original_n=n\n",
    "    rev_no=0\n",
    "    while n>0:\n",
    "        rem=n%10\n",
    "        rev_no=rev_no*10+rem\n",
    "        n=n//10\n",
    "    if original_n==rev_no:\n",
    "        return \"The no is Palindrome\"\n",
    "    else:\n",
    "        return \"The no is not a  Palindrome\"\n",
    "        "
   ]
  },
  {
   "cell_type": "code",
   "execution_count": 7,
   "id": "4fe58e36-ef08-4ca2-9827-e5b3eb0b5c53",
   "metadata": {},
   "outputs": [
    {
     "name": "stdin",
     "output_type": "stream",
     "text": [
      "enter your No 999\n"
     ]
    },
    {
     "data": {
      "text/plain": [
       "'The no is Palindrome'"
      ]
     },
     "execution_count": 7,
     "metadata": {},
     "output_type": "execute_result"
    }
   ],
   "source": [
    "check_palindrome(int(input(\"enter your No\")))"
   ]
  },
  {
   "cell_type": "markdown",
   "id": "c1283fed-8f7c-47e5-956b-09e3a9867a3a",
   "metadata": {},
   "source": [
    "Q9. Write a code to print odd numbers from 1 to 100 using list comprehension.\n",
    "Note: Use a list comprehension to create a list from 1 to 100 and use another List comprehension to filter\n",
    "out odd numbers."
   ]
  },
  {
   "cell_type": "code",
   "execution_count": 12,
   "id": "192ea466-0114-4d31-bfba-71e978248621",
   "metadata": {},
   "outputs": [],
   "source": [
    "l1=[i for i in range(1,101)]"
   ]
  },
  {
   "cell_type": "code",
   "execution_count": 16,
   "id": "313f3ec0-a510-4f24-8e06-4fb39ebd71d1",
   "metadata": {},
   "outputs": [
    {
     "name": "stdout",
     "output_type": "stream",
     "text": [
      "[1, 2, 3, 4, 5, 6, 7, 8, 9, 10, 11, 12, 13, 14, 15, 16, 17, 18, 19, 20, 21, 22, 23, 24, 25, 26, 27, 28, 29, 30, 31, 32, 33, 34, 35, 36, 37, 38, 39, 40, 41, 42, 43, 44, 45, 46, 47, 48, 49, 50, 51, 52, 53, 54, 55, 56, 57, 58, 59, 60, 61, 62, 63, 64, 65, 66, 67, 68, 69, 70, 71, 72, 73, 74, 75, 76, 77, 78, 79, 80, 81, 82, 83, 84, 85, 86, 87, 88, 89, 90, 91, 92, 93, 94, 95, 96, 97, 98, 99, 100]\n"
     ]
    }
   ],
   "source": [
    "print(l1)"
   ]
  },
  {
   "cell_type": "code",
   "execution_count": 18,
   "id": "36f9197c-d3e5-47e2-b4f8-ce385bfcb22b",
   "metadata": {},
   "outputs": [],
   "source": [
    "l2=[i for i in l1 if i%2!=0]"
   ]
  },
  {
   "cell_type": "code",
   "execution_count": 19,
   "id": "03389e8a-f607-4893-876b-b5dc82d3f4d4",
   "metadata": {},
   "outputs": [
    {
     "name": "stdout",
     "output_type": "stream",
     "text": [
      "[1, 3, 5, 7, 9, 11, 13, 15, 17, 19, 21, 23, 25, 27, 29, 31, 33, 35, 37, 39, 41, 43, 45, 47, 49, 51, 53, 55, 57, 59, 61, 63, 65, 67, 69, 71, 73, 75, 77, 79, 81, 83, 85, 87, 89, 91, 93, 95, 97, 99]\n"
     ]
    }
   ],
   "source": [
    "print(l2)"
   ]
  },
  {
   "cell_type": "markdown",
   "id": "a43230b4-e77b-48c7-9af8-a60ac6f67014",
   "metadata": {},
   "source": [
    "Q5. Create a generator function for prime numbers less than 1000. Use the next() method to print the\n",
    "first 20 prime numbers."
   ]
  },
  {
   "cell_type": "code",
   "execution_count": 20,
   "id": "0c24c82e-8cc8-46cc-b8a3-4c0cbfb38ddf",
   "metadata": {},
   "outputs": [
    {
     "name": "stdout",
     "output_type": "stream",
     "text": [
      "2\n",
      "3\n",
      "5\n",
      "7\n",
      "11\n",
      "13\n",
      "17\n",
      "19\n",
      "23\n",
      "29\n",
      "31\n",
      "37\n",
      "41\n",
      "43\n",
      "47\n",
      "53\n",
      "59\n",
      "61\n",
      "67\n",
      "71\n"
     ]
    }
   ],
   "source": [
    "def is_prime(num):\n",
    "    if num <= 1:\n",
    "        return False\n",
    "    for i in range(2, int(num**0.5) + 1):\n",
    "        if num % i == 0:\n",
    "            return False\n",
    "    return True\n",
    "\n",
    "def generate_primes():\n",
    "    num = 2\n",
    "    while num < 1000:\n",
    "        if is_prime(num):\n",
    "            yield num\n",
    "        num += 1\n",
    "\n",
    "prime_generator = generate_primes()\n",
    "count = 0\n",
    "while count < 20:\n",
    "    prime = next(prime_generator)\n",
    "    print(prime)\n",
    "    count += 1\n"
   ]
  },
  {
   "cell_type": "markdown",
   "id": "72e92204-eb60-4c42-a92b-11dbbe3c929f",
   "metadata": {},
   "source": [
    "Q4. What is a generator function in python? Why yield keyword is used? Give an example of a generator\n",
    "function.\n",
    "\n",
    "A generator function in Python is a special type of function that generates values on-the-fly and yields them one at a time, instead of returning them all at once. Generator functions use the yield keyword instead of return. When a generator function is called, it returns an iterator object but does not start execution immediately. The execution starts when the next() function is called on the iterator, and it pauses at each yield statement, resuming execution from where it left off when next() is called again.\n",
    "\n",
    "The yield keyword is used in generator functions to produce a value to the caller without exiting the function entirely. This allows the generator function to maintain its internal state between successive calls and generate a sequence of values efficiently, especially for large or infinite sequences."
   ]
  },
  {
   "cell_type": "code",
   "execution_count": 21,
   "id": "987dc7d5-0a32-4f35-a925-8b24bea5b490",
   "metadata": {},
   "outputs": [
    {
     "name": "stdout",
     "output_type": "stream",
     "text": [
      "0\n",
      "2\n",
      "4\n",
      "6\n",
      "8\n",
      "10\n"
     ]
    }
   ],
   "source": [
    "def generate_even_numbers(limit):\n",
    "    num = 0\n",
    "    while num <= limit:\n",
    "        yield num\n",
    "        num += 2\n",
    "\n",
    "# Using the generator function to generate even numbers\n",
    "even_generator = generate_even_numbers(10)\n",
    "\n",
    "# Using a loop to print the generated even numbers\n",
    "for num in even_generator:\n",
    "    print(num)\n"
   ]
  },
  {
   "cell_type": "markdown",
   "id": "667cfdd2-230b-4c0f-a37e-a9eb1cb27110",
   "metadata": {},
   "source": [
    "Q.3 In Python, an iterator is an object that implements the iterator protocol, which consists of two methods: __iter__() and __next__(). An iterator represents a stream of data and allows iteration over elements one at a time, typically in a lazy, on-demand fashion. Iterators are commonly used with containers like lists, tuples, dictionaries, etc., to provide a way to access elements sequentially.\n",
    "\n",
    "The __iter__() method is used to initialize the iterator object. It returns the iterator object itself and is called when the iterator is created or reset.\n",
    "The __next__() method is used for iteration. It returns the next item from the iterator and raises the StopIteration exception when there are no more items to return.\n",
    "Here's an example of how to use iterators to print the first five elements of the given list [2, 4, 6, 8, 10, 12, 14, 16, 18, 20]:"
   ]
  },
  {
   "cell_type": "code",
   "execution_count": 23,
   "id": "17f00759-43fc-4904-9c93-166c0ec031e1",
   "metadata": {},
   "outputs": [
    {
     "name": "stdout",
     "output_type": "stream",
     "text": [
      "2\n",
      "4\n",
      "6\n",
      "8\n",
      "10\n"
     ]
    }
   ],
   "source": [
    "# Create an iterator object from the list\n",
    "my_list = [2, 4, 6, 8, 10, 12, 14, 16, 18, 20]\n",
    "my_iterator = iter(my_list)\n",
    "\n",
    "# Iterate using the iterator and print the first five elements\n",
    "for _ in range(5):\n",
    "    element = next(my_iterator)\n",
    "    print(element)\n"
   ]
  },
  {
   "cell_type": "markdown",
   "id": "515c051c-d349-4daf-91f8-dc8c22586ac5",
   "metadata": {},
   "source": [
    "Q2. Why *args and **kwargs is used in some functions? Create a function each for *args and **kwargs\n",
    "to demonstrate their use.\n",
    "\n",
    "\n",
    "*args (Arbitrary Arguments):\n",
    "*args is used when you want to pass a variable number of positional arguments to a function.\n",
    "The *args parameter collects all the positional arguments into a tuple within the function.\n",
    "\n",
    "\n",
    "**kwargs (Arbitrary Keyword Arguments):\n",
    "**kwargs is used when you want to pass a variable number of keyword arguments (key-value pairs) to a function.\n",
    "The **kwargs parameter collects all the keyword arguments into a dictionary within the function."
   ]
  },
  {
   "cell_type": "code",
   "execution_count": null,
   "id": "cc76dc77-fa49-4419-b5fb-56c71100a13d",
   "metadata": {},
   "outputs": [],
   "source": []
  }
 ],
 "metadata": {
  "kernelspec": {
   "display_name": "Python 3 (ipykernel)",
   "language": "python",
   "name": "python3"
  },
  "language_info": {
   "codemirror_mode": {
    "name": "ipython",
    "version": 3
   },
   "file_extension": ".py",
   "mimetype": "text/x-python",
   "name": "python",
   "nbconvert_exporter": "python",
   "pygments_lexer": "ipython3",
   "version": "3.10.8"
  }
 },
 "nbformat": 4,
 "nbformat_minor": 5
}
